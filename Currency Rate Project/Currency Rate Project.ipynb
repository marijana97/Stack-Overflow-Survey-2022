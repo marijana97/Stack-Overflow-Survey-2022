{
 "cells": [
  {
   "cell_type": "markdown",
   "id": "f019a454",
   "metadata": {},
   "source": [
    "# Currency Rate Project"
   ]
  },
  {
   "cell_type": "code",
   "execution_count": 1,
   "id": "53366419",
   "metadata": {},
   "outputs": [],
   "source": [
    "from selenium import webdriver\n",
    "from selenium.webdriver.chrome.service import Service\n",
    "from selenium.webdriver.common.by import By\n",
    "from selenium.webdriver.common.keys import Keys\n",
    "import time\n",
    "from bs4 import BeautifulSoup\n",
    "import requests\n",
    "import pandas as pd\n",
    "import json"
   ]
  },
  {
   "cell_type": "code",
   "execution_count": 2,
   "id": "a6b8db6e",
   "metadata": {},
   "outputs": [],
   "source": [
    "url = 'https://wise.com/gb/currency-converter/xcd-to-eur-rate'\n",
    "\n",
    "path = ('C:/Users/Marijana/Downloads/chromedriver.exe')\n",
    "s = Service(path)\n",
    "\n",
    "driver = webdriver.Chrome(service=s)\n",
    "\n",
    "driver.get(url)\n",
    "\n",
    "driver.maximize_window()\n",
    "\n",
    "\n",
    "agree = driver.find_element(By.ID, 'twcc__accept-button')\n",
    "try:\n",
    "    agree.click()\n",
    "except:\n",
    "    pass\n",
    "\n",
    "\n",
    "# list of currencies that will be entered in currency converter\n",
    "currency_list = ['USD', 'EUR', 'GBP', 'INR', 'CAD', 'BRL', 'PLN', 'AUD', 'SEK', 'CHF', 'RUB', 'ILS', 'TRY', 'CZK', 'DKK', \n",
    "                 'NOK', 'MXN', 'NZD', 'ZAR', 'PKR', 'RON', 'HUF', 'BDT', 'JPY', 'ARS', 'COP', 'BGN', 'IDR', 'CNY', \n",
    "                 'UAH', 'PHP', 'CLP', 'KRW', 'NGN', 'SGD', 'EGP', 'LKR', 'TWD', 'HRK', 'MYR', 'VND', 'RSD', 'THB', 'HKD', \n",
    "                 'NPR', 'KES', 'AED', 'PEN', 'MAD', 'BAM', 'UYU', 'DOP', 'GEL', 'SAR', 'AMD', 'KZT', 'ETB', 'BYN', 'JOD', \n",
    "                 'TND', 'GTQ', 'CRC', 'XOF', 'AZN', 'GHS', 'PYG', 'BOB', 'ALL', 'UGX', 'ISK', 'MKD', 'MDL', 'MMK', 'TZS', \n",
    "                 'MUR', 'XAF', 'KGS', 'KWD', 'DZD', 'MNT', 'MGA', 'UZS', 'QAR', 'RWF', \n",
    "                 'TTD', 'JMD', 'MWK', 'OMR', 'AOA', 'MVR', 'GYD', 'BWP', 'BHD', 'MZN', 'BTN', 'TMT', 'LBP', \n",
    "                 'NIO', 'IMP', 'GNF', 'FJD', 'TJS', 'BBD', 'XPF', 'XCD', 'ZMW', 'BMD', 'DJF', 'KYD', 'AWG', \n",
    "                 'LAK', 'GIP', 'SCR']\n",
    "\n",
    "# creating dictionary to store currency and currency rate\n",
    "currency_dict = {'BDT': '' ,'UAH': '','NGN': '','EGP': '','HRK': '','VND': '','RSD': '','KES': '','PEN': '','MAD': ''}\n",
    "\n",
    "for currency in currency_list:\n",
    "    amount_choice = driver.find_element(By.ID, 'source-input')\n",
    "    amount_choice.send_keys(Keys.CONTROL + \"a\")\n",
    "    amount_choice.send_keys('1')\n",
    "    time.sleep(1)\n",
    "\n",
    "    currency_choice = driver.find_element(By.ID, 'source-input-select')\n",
    "    currency_choice.click()\n",
    "        \n",
    "    driver.find_element(By.ID, 'source-input-select-searchbox').send_keys(currency + \"\\n\")\n",
    "    time.sleep(2)\n",
    "    current_url = driver.current_url\n",
    "        \n",
    "    response = requests.get(current_url)\n",
    "    soup = BeautifulSoup(response.content, 'html.parser')\n",
    "    results = soup.find_all('h3', {'class': 'cc__source-to-target'})\n",
    "    value = results[0].find('span', {'class': 'text-success'}).get_text()\n",
    "    time.sleep(2)\n",
    "    currency_dict[currency] = value\n",
    "    driver.back()\n",
    "    time.sleep(4)"
   ]
  },
  {
   "cell_type": "code",
   "execution_count": 6,
   "id": "f03cfc27",
   "metadata": {},
   "outputs": [],
   "source": [
    "currency_dict['EUR'] = 1"
   ]
  },
  {
   "cell_type": "code",
   "execution_count": 8,
   "id": "6afade53",
   "metadata": {},
   "outputs": [],
   "source": [
    "#json.dump(currency_dict, open(\"currency_dict.json\", 'w'))"
   ]
  }
 ],
 "metadata": {
  "kernelspec": {
   "display_name": "Python 3 (ipykernel)",
   "language": "python",
   "name": "python3"
  },
  "language_info": {
   "codemirror_mode": {
    "name": "ipython",
    "version": 3
   },
   "file_extension": ".py",
   "mimetype": "text/x-python",
   "name": "python",
   "nbconvert_exporter": "python",
   "pygments_lexer": "ipython3",
   "version": "3.9.12"
  }
 },
 "nbformat": 4,
 "nbformat_minor": 5
}
