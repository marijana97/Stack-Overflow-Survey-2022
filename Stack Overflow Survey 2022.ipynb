{
 "cells": [
  {
   "cell_type": "markdown",
   "id": "d1db222c",
   "metadata": {},
   "source": [
    "# Stack Overflow Survey 2022\n",
    "### Using the ordinary least squares (OLS) regression, it was analyzed which factors have the greatest impact on the salary"
   ]
  },
  {
   "cell_type": "markdown",
   "id": "ee2c5928",
   "metadata": {},
   "source": [
    "Stack Overflow is a question and answer website for developers. Stack Overflow conducts a survey every year in order to help them to improve the Stack Overflow community and the platform.\n",
    "The goal of this analysis is to find out what **affects the developer's salary** the most with the help of the **least squares method (OLS)**. The survey has 79 questions, and therefore this data has 79 columns, for each question 1 column. There are many missing values in some columns and those columns will be dropped. Below is an explanation of the columns that will be used for the OLS method.\n",
    "\n",
    "*Definitions*\n",
    "- **Gender** - user's gender\n",
    "- **Country** - country where the user lives\n",
    "- **OrgSize** - number of people that are employed by the company or organization the user currently work for\n",
    "- **Age**  - user's age\n",
    "- **EdLevel** - the highest level of formal education that user have completed\n",
    "- **MainBranch** - is coding a main branch or a hobby\n",
    "- **Employment** - employment status; full-time, part-time...\n",
    "- **RemoteWork** - does the user work from home or office\n",
    "- **CodingActivities** - does user writes code outside of work\n",
    "- **LearnCode** - how did user learn to code\n",
    "- **YearsCode** - how many years does user code (including education)\n",
    "- **YearsCodePro** - how many years does user code (not including education)\n",
    "- **DevType** - type of developer, profession\n",
    "- **PurchaseInfluence** - level of influence that user have over new technology purchases at organization\n",
    "- **LanguageHaveWorkedWith** - programming, scripting, and markup languages that user have done extensive development work in over the past year\n",
    "- **NEWCollabToolsHaveWorkedWith** - development environments that user used over the past year\n",
    "- **OpSysPersonal_use** - primary operating system in which user work\n",
    "- **VersionControlSystem** - primary version control systems that user use\n",
    "- **NEWSOSites** - Stack Overflow sites that user have visited\n",
    "- **SOVisitFreq** - how frequently user visits Stack Overflow\n",
    "- **SOAccount** - does user have a Stack Overflow account\n",
    "- **CompYearly** - the current total compensation (salary, bonuses, and perks, before taxes and deductions)\n",
    "- **Currency** - currency used by the user"
   ]
  },
  {
   "cell_type": "markdown",
   "id": "8ef1797d",
   "metadata": {},
   "source": [
    "# Imports and Reading Data"
   ]
  },
  {
   "cell_type": "code",
   "execution_count": 1,
   "id": "023d69c7",
   "metadata": {},
   "outputs": [],
   "source": [
    "import pandas as pd\n",
    "pd.set_option('display.max_columns', 80)\n",
    "import numpy as np\n",
    "import json\n",
    "import matplotlib.pyplot as plt\n",
    "import seaborn as sns\n",
    "from scipy import stats\n",
    "from sklearn import preprocessing\n",
    "import statsmodels.api as sm"
   ]
  },
  {
   "cell_type": "code",
   "execution_count": 2,
   "id": "cc0efdab",
   "metadata": {},
   "outputs": [],
   "source": [
    "survey = pd.read_csv('survey_results_public_2022.csv')"
   ]
  },
  {
   "cell_type": "markdown",
   "id": "5fa29338",
   "metadata": {},
   "source": [
    "# Cleaning Data"
   ]
  },
  {
   "cell_type": "markdown",
   "id": "b5a5f702",
   "metadata": {},
   "source": [
    "The first step in cleaning the dataframe is to **filter** the dataframe to have the relevant data. First, we will remove all rows that have a value *'None of these'* in the *MainBranch* column, because all other columns have missing values, since these users **don't code**. We will also drop rows where users entered 0 as salary value. All missing values in column *CompTotal* will be dropped because on that column the OLS analysis will be applied. We will also drop some unnecessary columns that are irrelevant for this analysis like *SurveyEase and SurveyLength* because those questions are about survey. After that we will drop all columns that have **more than 500 missing values**, and the rest of the missing values in dataframe will be dropped by **row**. \n",
    "\n",
    "After that we will adjust all salaries so that they are on the **same basis**. The salary amount could be entered on an *annual, monthly and weekly basis*. We will adjust everything to the **annual basis**. Also, not all users used the same currency when entering the salary amount. Based on the *Currency* column, we will assume that the salaries are shown in the given currency. We will convert all salaries into **euros**. Currency rates are uploaded from *json file* which was web scraped with Selenium (**Currency Rate Project**). "
   ]
  },
  {
   "cell_type": "code",
   "execution_count": 3,
   "id": "28b7e45a",
   "metadata": {},
   "outputs": [],
   "source": [
    "def transformData(df):\n",
    "    \n",
    "    dictionary = {'More than 50 years': 50, 'Less than 1 year':0.5}\n",
    "\n",
    "    def prepareData(df):\n",
    "        return (df\n",
    "     .query('MainBranch != \"None of these\" & CompTotal != 0.0')\n",
    "     .assign(YearsCode = df.YearsCode.replace(dictionary), #adjusting all to numbers\n",
    "             YearsCodePro = df.YearsCodePro.replace(dictionary), #adjusting all to numbers\n",
    "             Currency = df.Currency.str[:3] #getting only currency code\n",
    "     )\n",
    "     .dropna(subset='CompTotal', axis=0) #dropping missing values in salary column\n",
    "     .drop(columns=(['ResponseId', 'SurveyLength', 'SOComm', 'SurveyEase', \n",
    "                     'ConvertedCompYearly', 'Blockchain', 'Ethnicity']), axis=1) #dropping irrelevant columns\n",
    "     .astype({'YearsCode':'float', 'YearsCodePro':'float'})\n",
    "    )\n",
    "\n",
    "    survey = prepareData(df)\n",
    "\n",
    "    survey = survey.loc[:, (survey.isna().sum() < 500)] \\\n",
    "            .dropna(how='any', axis=0) #dropping columns with more than 500 missing values\n",
    "\n",
    "    currency_dict = json.load(open(\"currency_dict.json\")) #loading file with currency rates\n",
    "\n",
    "    survey['ExchangeRate'] = survey.Currency.map(currency_dict).astype(float) #converting all currencies to euro\n",
    "    survey['CompAdjusted'] = survey.ExchangeRate * survey.CompTotal #converting all salaries into euro\n",
    "\n",
    "    #adjusting all salaries to annual basis\n",
    "    survey.loc[survey.CompFreq == 'Yearly', 'CompYearly'] = survey.CompAdjusted * 1\n",
    "    survey.loc[survey.CompFreq == 'Monthly', 'CompYearly'] = survey.CompAdjusted * 12\n",
    "    survey.loc[survey.CompFreq == 'Weekly', 'CompYearly'] = survey.CompAdjusted * 52\n",
    "\n",
    "    def cleanData(survey):\n",
    "        return (survey\n",
    "     .query('CompYearly < 500000') #dropping extreme outliers, above 500000€\n",
    "     .drop(columns=['Currency', 'CompTotal', 'CompFreq','ExchangeRate', 'CompAdjusted'], axis=1) #dropping unnecessary columns \n",
    "     .dropna(how='any', axis=0) #dropping all missing values\n",
    "     .reset_index(drop=True))\n",
    "\n",
    "    sur = cleanData(survey)\n",
    "    return sur"
   ]
  },
  {
   "cell_type": "code",
   "execution_count": 4,
   "id": "1056d31a",
   "metadata": {},
   "outputs": [],
   "source": [
    "sur = transformData(survey)\n",
    "#sur.memory_usage(deep=True).sum()"
   ]
  },
  {
   "cell_type": "markdown",
   "id": "2120dc67",
   "metadata": {},
   "source": [
    "### DevType - Profession"
   ]
  },
  {
   "cell_type": "markdown",
   "id": "c2550a47",
   "metadata": {},
   "source": [
    "*DevType* column has **29 unique values** which is a lot for doing OLS analysis. In this section we will **re-code** the column on some values. We will put the values in the **same group**. For example, *Developer, full-stack, Developer, back-end, Developer, front-end will* be in the same group *Developer*. In the end, there will be **12 unique values**."
   ]
  },
  {
   "cell_type": "code",
   "execution_count": 5,
   "id": "778d4501",
   "metadata": {},
   "outputs": [],
   "source": [
    "# re-grouping values\n",
    "Developer = ['Developer, full-stack', 'Developer, back-end', 'Developer, front-end', \n",
    "             'Developer, desktop or enterprise applications', 'Developer, mobile', \n",
    "             'Developer, embedded applications or devices', 'Developer, game or graphics', 'Developer, QA or test']\n",
    "DataScientist = ['Data scientist or machine learning specialist', 'Scientist']\n",
    "Manager = ['Product manager',  'Project manager', 'Engineering manager']\n",
    "Engineer = ['Cloud infrastructure engineer', 'Engineer, site reliability', 'Engineer, data']  \n",
    "\n",
    "\n",
    "developer_df = pd.DataFrame(sur.DevType.str.split(';').explode().replace(dict.fromkeys(Developer, 'Developer')) \\\n",
    "         .replace(dict.fromkeys(DataScientist, 'Data scientist')).replace(dict.fromkeys(Manager, 'Manager')) \\\n",
    "         .replace(dict.fromkeys(Engineer, 'Engineer')).replace('Academic researcher', 'Educator') \\\n",
    "         .replace('Database administrator', 'System administrator')) \\\n",
    "         .reset_index()"
   ]
  },
  {
   "cell_type": "code",
   "execution_count": 6,
   "id": "3aba0fc0",
   "metadata": {},
   "outputs": [],
   "source": [
    "#dropping irrelevant values, a sample size is too small\n",
    "dev_list = ['Blockchain', 'Student', 'Marketing or sales professional']\n",
    "\n",
    "developer_df = developer_df[~developer_df.DevType.isin(dev_list)]"
   ]
  },
  {
   "cell_type": "code",
   "execution_count": 7,
   "id": "8333d68a",
   "metadata": {},
   "outputs": [],
   "source": [
    "devtype_clean = developer_df.groupby(['index'])['DevType'] \\\n",
    "                            .apply(set) \\\n",
    "                            .apply(list) \\\n",
    "                            .str.join(';')\n",
    "\n",
    "sur['DevType'] = devtype_clean"
   ]
  },
  {
   "cell_type": "markdown",
   "id": "f0418af5",
   "metadata": {},
   "source": [
    "### Employment"
   ]
  },
  {
   "cell_type": "markdown",
   "id": "d536b565",
   "metadata": {},
   "source": [
    "*Employment* column has **11 unique values** but because of the multiple-choice option there are in total 11 values. From multiple answers, we will reduce it to one answer. For example, if the answer contains full-time, we will put that the user works full-time. The same logic wil be applied for part-time and contractor. In the end, there will be **3 unique values**."
   ]
  },
  {
   "cell_type": "code",
   "execution_count": 8,
   "id": "c5f13da5",
   "metadata": {},
   "outputs": [],
   "source": [
    "conditions = [\n",
    "            sur.Employment.str.contains('full-time'), \n",
    "            sur.Employment.str.contains('part-time'), sur.Employment.str.contains('contractor')\n",
    "]\n",
    "\n",
    "\n",
    "choices = ['Employed, full-time', 'Employed, part-time', \n",
    "           'Independent contractor, freelancer, or self-employed']\n",
    "\n",
    "\n",
    "\n",
    "sur['Employment'] = np.select(conditions, choices, sur['Employment'])"
   ]
  },
  {
   "cell_type": "markdown",
   "id": "7eacdc0a",
   "metadata": {},
   "source": [
    "### Country"
   ]
  },
  {
   "cell_type": "markdown",
   "id": "1d9faeed",
   "metadata": {},
   "source": [
    "*Country* column has **156 unique values** and we will reduce it by replacing it with the continent in which user lives. In the end, there will be **3 unique values**. We will upload webpage with the list of countries and continents to map matching continent for each country the users entered. In the end, there will be **7 unique values**."
   ]
  },
  {
   "cell_type": "code",
   "execution_count": 9,
   "id": "b305ea43",
   "metadata": {},
   "outputs": [],
   "source": [
    "#uploading table from web\n",
    "world_table = pd.read_html('https://statisticstimes.com/geography/countries-by-continents.php')[2]"
   ]
  },
  {
   "cell_type": "code",
   "execution_count": 10,
   "id": "f0cbbfac",
   "metadata": {},
   "outputs": [],
   "source": [
    "#locating only continent and country column\n",
    "world_table = world_table.loc[:, ['Country or Area', 'Continent']]"
   ]
  },
  {
   "cell_type": "code",
   "execution_count": 11,
   "id": "b18269b1",
   "metadata": {},
   "outputs": [],
   "source": [
    "#replacing values\n",
    "sur = sur.replace(world_table.set_index('Country or Area')['Continent'])"
   ]
  },
  {
   "cell_type": "code",
   "execution_count": 12,
   "id": "a805a09a",
   "metadata": {},
   "outputs": [],
   "source": [
    "# replacing the rest of countries with continents that aren't included in the table\n",
    "Europe = ['Czech Republic', 'The former Yugoslav Republic of Macedonia', 'Kosovo']\n",
    "South_America = ['Bolivia', 'Venezuela, Bolivarian Republic of...']\n",
    "Asia = ['Taiwan', 'South Korea', 'Hong Kong (S.A.R.)', 'Palestine', 'Iran, Islamic Republic of...']\n",
    "Africa = ['South Africa', \"Côte d'Ivoire\", 'Cape Verde', 'Congo, Republic of the...']\n",
    "\n",
    "sur.Country = sur.Country.replace(dict.fromkeys(Europe, 'Europe')) \\\n",
    "                         .replace(dict.fromkeys(South_America, 'South America')) \\\n",
    "                         .replace(dict.fromkeys(Asia, 'Asia')) \\\n",
    "                         .replace(dict.fromkeys(Africa, 'Africa'))"
   ]
  },
  {
   "cell_type": "markdown",
   "id": "023a4383",
   "metadata": {},
   "source": [
    "### Language Have Worked With"
   ]
  },
  {
   "cell_type": "markdown",
   "id": "277a7d2e",
   "metadata": {},
   "source": [
    "*LanguageHaveWorkedWith* column has **42 unique values** and we will reduce it to the languages that have more that **4000 occurrences** and all other values will be dropped. This question in a survey had **multiple-choice** option so first we will count the number of languages the users entered in. In the end, there will be **13 unique values**."
   ]
  },
  {
   "cell_type": "code",
   "execution_count": 13,
   "id": "ba1337a5",
   "metadata": {},
   "outputs": [],
   "source": [
    "#creating column with number of languages for each user\n",
    "sur['LanguageNum'] = sur.LanguageHaveWorkedWith.str.split(';').str.len()"
   ]
  },
  {
   "cell_type": "code",
   "execution_count": 14,
   "id": "c6d5760d",
   "metadata": {},
   "outputs": [],
   "source": [
    "#sur['LanguageHaveWorkedWith'].str.split(';').explode().value_counts()\n",
    "\n",
    "language_filtered = sur.LanguageHaveWorkedWith.str.split(';').explode().value_counts() < 4000 #filtering values\n",
    "\n",
    "language_list = language_filtered.index[language_filtered].tolist() #creating a list of values that will be dropped"
   ]
  },
  {
   "cell_type": "code",
   "execution_count": 15,
   "id": "9d227982",
   "metadata": {},
   "outputs": [],
   "source": [
    "language_values = sur.LanguageHaveWorkedWith.str.split(';').explode() #splitting column values on semicolon\n",
    "\n",
    "language_bool = language_values.isin(language_list).reset_index(drop=True) #boolean series"
   ]
  },
  {
   "cell_type": "code",
   "execution_count": 16,
   "id": "f30ea013",
   "metadata": {},
   "outputs": [],
   "source": [
    "language_df = pd.DataFrame(language_values).reset_index()\n",
    "\n",
    "language_df['Language_bool'] = language_bool"
   ]
  },
  {
   "cell_type": "code",
   "execution_count": 17,
   "id": "433c0fac",
   "metadata": {},
   "outputs": [],
   "source": [
    "# getting values that have occurrences more than 4000\n",
    "language_df = language_df[language_df.Language_bool == False]"
   ]
  },
  {
   "cell_type": "code",
   "execution_count": 18,
   "id": "755b2fa8",
   "metadata": {},
   "outputs": [],
   "source": [
    "sur['LanguageHaveWorkedWith'] = language_df.groupby('index')['LanguageHaveWorkedWith'].apply(list).str.join(';')\n",
    "\n",
    "#sur['LanguageHaveWorkedWith'].str.split(';').explode().value_counts()"
   ]
  },
  {
   "cell_type": "markdown",
   "id": "6c696ae3",
   "metadata": {},
   "source": [
    "### NEWCollabToolsHaveWorkedWith"
   ]
  },
  {
   "cell_type": "markdown",
   "id": "c531038e",
   "metadata": {},
   "source": [
    "*NEWCollabToolsHaveWorkedWith* column has **27 unique values** and we will reduce it to the tools that have more that **3000 occurrences** and all other values will be dropped. This question in a survey had **multiple-choice** option so first we will count the number of languages the users entered in. We will apply same steps as for *DevType* column. In the end, there will be **11 unique values**."
   ]
  },
  {
   "cell_type": "code",
   "execution_count": 19,
   "id": "4345f8c6",
   "metadata": {},
   "outputs": [],
   "source": [
    "#creating column with number of languages for each user\n",
    "sur['NEWCollabNum'] = sur.NEWCollabToolsHaveWorkedWith.str.split(';').str.len()"
   ]
  },
  {
   "cell_type": "code",
   "execution_count": 20,
   "id": "3e56c26d",
   "metadata": {},
   "outputs": [],
   "source": [
    "#sur['NEWCollabToolsHaveWorkedWith'].str.split(';').explode().value_counts()\n",
    "\n",
    "NEWCollab_filtered = sur.NEWCollabToolsHaveWorkedWith.str.split(';').explode().value_counts() < 3000 #filtering values\n",
    "\n",
    "NEWCollab_list = NEWCollab_filtered.index[NEWCollab_filtered].tolist() #creating a list of values that will be dropped"
   ]
  },
  {
   "cell_type": "code",
   "execution_count": 21,
   "id": "5b5fb350",
   "metadata": {},
   "outputs": [],
   "source": [
    "NEWCollab_values = sur.NEWCollabToolsHaveWorkedWith.str.split(';').explode() #splitting column values on semicolon\n",
    "\n",
    "NEWCollab_bool = NEWCollab_values.isin(NEWCollab_list).reset_index(drop=True) #boolean series"
   ]
  },
  {
   "cell_type": "code",
   "execution_count": 22,
   "id": "b019df32",
   "metadata": {},
   "outputs": [],
   "source": [
    "NEWCollab_df = pd.DataFrame(NEWCollab_values).reset_index()\n",
    "\n",
    "NEWCollab_df['NEWCollab_bool'] = NEWCollab_bool"
   ]
  },
  {
   "cell_type": "code",
   "execution_count": 23,
   "id": "61eaedc9",
   "metadata": {},
   "outputs": [],
   "source": [
    "NEWCollab_df = NEWCollab_df[NEWCollab_df.NEWCollab_bool == False] # getting values that have occurrences more than 4000\n",
    "\n",
    "sur['NEWCollabToolsHaveWorkedWith'] = NEWCollab_df.groupby('index')['NEWCollabToolsHaveWorkedWith'].apply(list).str.join(';')\n",
    "\n",
    "#sur['NEWCollabToolsHaveWorkedWith'].str.split(';').explode().value_counts()"
   ]
  },
  {
   "cell_type": "markdown",
   "id": "307e0578",
   "metadata": {},
   "source": [
    "### Gender"
   ]
  },
  {
   "cell_type": "markdown",
   "id": "c788e4e1",
   "metadata": {},
   "source": [
    "*Gender* column has **5 unique values** but because of the multiple-choice option there are in total 15 values. From multiple answers, we will reduce it to one answer. For example, if the answer contains *'Man'*, we will put that user is man. The same logic wil be applied for *woman and non-binary*. Values *Prefer not to say and Or, in your own words:* will be put in the same group *'Prefer not to say'*. In the end, there will be **4 unique values**."
   ]
  },
  {
   "cell_type": "code",
   "execution_count": 24,
   "id": "87e3a090",
   "metadata": {},
   "outputs": [],
   "source": [
    "#sur['Gender'].value_counts()\n",
    "\n",
    "cond = [sur.Gender.str.contains('Man'), sur.Gender.str.contains('Woman'), \n",
    "           sur.Gender.str.contains('Non-binary'), (sur.Gender.str.contains('Prefer') | sur.Gender.str.contains('words'))]\n",
    "\n",
    "val = ['Man', 'Woman', 'Non-binary, genderqueer, or gender non-conforming', 'Prefer not to say']\n",
    "\n",
    "sur['Gender'] = np.select(cond, val, sur.Gender)"
   ]
  },
  {
   "cell_type": "markdown",
   "id": "a049703d",
   "metadata": {},
   "source": [
    "### OpSysPersonal_use"
   ]
  },
  {
   "cell_type": "markdown",
   "id": "226d5cfb",
   "metadata": {},
   "source": [
    "*OpSysPersonal use* column has **6 unique values** but because of the multiple-choice option there are in total 54 values. We will drop values *'BSD' and 'Other (please specify):'* because they have the sample size is too small. In the end, there will be **4 unique values**."
   ]
  },
  {
   "cell_type": "code",
   "execution_count": 25,
   "id": "aa8261b6",
   "metadata": {},
   "outputs": [],
   "source": [
    "OpSys_df = pd.DataFrame(sur['OpSysPersonal use'].str.split(';').explode())\n",
    "\n",
    "OpSys_df = OpSys_df.reset_index() \\\n",
    "                .set_index(['OpSysPersonal use']) \\\n",
    "                .drop(['Other (please specify):', 'BSD']) \\\n",
    "                .reset_index()\n",
    "\n",
    "sur['OpSysPersonal use'] = OpSys_df.groupby('index')['OpSysPersonal use'].apply(list).str.join(';')"
   ]
  },
  {
   "cell_type": "markdown",
   "id": "34b3111e",
   "metadata": {},
   "source": [
    "### VersionControlSystem"
   ]
  },
  {
   "cell_type": "markdown",
   "id": "50e4f4f2",
   "metadata": {},
   "source": [
    "*VersionControlSystem* column has **5 unique values** but because of the multiple-choice option there are in total 16 values. We will drop values *'Mercurial' and 'I don't use one'* because they have the least number of occurrences. In the end, there will be **3 unique values**."
   ]
  },
  {
   "cell_type": "code",
   "execution_count": 26,
   "id": "495569ee",
   "metadata": {},
   "outputs": [],
   "source": [
    "VersionControl_df = pd.DataFrame(sur.VersionControlSystem.str.split(';').explode())\n",
    "\n",
    "VersionControl_df = VersionControl_df.reset_index() \\\n",
    "                .set_index('VersionControlSystem') \\\n",
    "                .drop(['Mercurial', \"I don't use one\"]) \\\n",
    "                .reset_index()\n",
    "\n",
    "sur['VersionControlSystem'] = VersionControl_df.groupby('index')['VersionControlSystem'].apply(list).str.join(';')"
   ]
  },
  {
   "cell_type": "markdown",
   "id": "91df1729",
   "metadata": {},
   "source": [
    "# Preparing Data"
   ]
  },
  {
   "cell_type": "markdown",
   "id": "1f8921ea",
   "metadata": {},
   "source": [
    "In this part we will make the final preparations before creating dummy variables and applying the OLS method. Assuming that there are still outliers in the **CompYearly** (salary) column, we will filter out all values that are less than *1000* (€). Then we will fill in the missing values in *DevType* and  *VersionControlSystem* with the value *Other*.\n",
    "*Trans* column will be removed (the question about whether the user is transsexual or not) because there is a big difference between the value occurrences, which could affect the results of the analysis.\n",
    "\n",
    "Next, we will drop all values that have a small number of occurrences in columns *EdLevel, Age, Gender, Continent, OrgSize* because the sample size is too small."
   ]
  },
  {
   "cell_type": "code",
   "execution_count": 27,
   "id": "3990f0c7",
   "metadata": {},
   "outputs": [],
   "source": [
    "sur = (sur\n",
    " .query('CompYearly > 1000') #filtering out outliers\n",
    " .assign(CompYearly = sur.CompYearly.round(2), \n",
    "         DevType = sur.DevType.fillna('Other (please specify):'), #filling in missing values\n",
    "         VersionControlSystem = sur.VersionControlSystem.fillna('Other (please specify):')) #filling in missing values\n",
    " .rename(columns={'Country': 'Continent', 'OpSysPersonal use': 'OpSysPersonal_use'})\n",
    " .drop(columns=['Trans'], axis=1)\n",
    " .dropna(subset=['LanguageHaveWorkedWith', 'NEWCollabToolsHaveWorkedWith', 'OpSysPersonal_use'])\n",
    " .reset_index(drop=True)\n",
    " .astype({'MainBranch': 'category', 'RemoteWork': 'category', 'OrgSize': 'category', \n",
    "          'PurchaseInfluence': 'category', 'SOVisitFreq': 'category', 'SOAccount': 'category'}))"
   ]
  },
  {
   "cell_type": "code",
   "execution_count": 28,
   "id": "7036ba4d",
   "metadata": {},
   "outputs": [],
   "source": [
    "#dropping small smaple size\n",
    "sur = sur.set_index('EdLevel') \\\n",
    "                .drop(['Professional degree (JD, MD, etc.)', 'Something else', 'Primary/elementary school']) \\\n",
    "                .reset_index()"
   ]
  },
  {
   "cell_type": "code",
   "execution_count": 29,
   "id": "26556abb",
   "metadata": {},
   "outputs": [],
   "source": [
    "#dropping small smaple size\n",
    "sur = sur.set_index('Age') \\\n",
    "                .drop(['65 years or older', 'Prefer not to say', 'Under 18 years old']) \\\n",
    "                .reset_index()"
   ]
  },
  {
   "cell_type": "code",
   "execution_count": 30,
   "id": "912dfab9",
   "metadata": {},
   "outputs": [],
   "source": [
    "#dropping small smaple size\n",
    "sur = sur.set_index('OrgSize') \\\n",
    "                .drop(['I don’t know']) \\\n",
    "                .reset_index()"
   ]
  },
  {
   "cell_type": "code",
   "execution_count": 31,
   "id": "155d203f",
   "metadata": {},
   "outputs": [],
   "source": [
    "#dropping small smaple size\n",
    "sur = sur.set_index('Continent') \\\n",
    "                .drop(['Nomadic']) \\\n",
    "                .reset_index()"
   ]
  },
  {
   "cell_type": "code",
   "execution_count": 32,
   "id": "4d417d15",
   "metadata": {},
   "outputs": [],
   "source": [
    "#dropping small smaple size\n",
    "sur = sur.set_index('Gender') \\\n",
    "            .drop(['Prefer not to say', 'Non-binary, genderqueer, or gender non-conforming']) \\\n",
    "            .reset_index()"
   ]
  },
  {
   "cell_type": "code",
   "execution_count": 33,
   "id": "59d83a22",
   "metadata": {},
   "outputs": [],
   "source": [
    "#changing types in category\n",
    "sur = sur.astype({'EdLevel': 'category', 'OrgSize': 'category', 'Continent':'category', 'Gender':'category'})\n",
    "\n",
    "#sur.memory_usage(deep=True).sum()"
   ]
  },
  {
   "cell_type": "markdown",
   "id": "dcd1b468",
   "metadata": {},
   "source": [
    "# Creating Dummy Variables"
   ]
  },
  {
   "cell_type": "markdown",
   "id": "736fd0e7",
   "metadata": {},
   "source": [
    "In this part we will create **dummy variables** for all columns. **Numerical and categorical** columns that didn't have the multiple-choice option will be converted into dummy variables using function **pd.get_dummies**. For the columns that had multiple-choice option, (*DevType, CodingActivities, LearnCode, LanguageHaveWorkedWith, NEWCollabToolsHaveWorkedWith, OpSysPersonal use, VersionControlSystem, NEWSOSites*) the new column for each value separately will be created. Two functions are created *(getValues, fillNans)* which will be applied to each column."
   ]
  },
  {
   "cell_type": "code",
   "execution_count": 34,
   "id": "98ab3727",
   "metadata": {},
   "outputs": [],
   "source": [
    "#creating new dataframe with dummy variables\n",
    "\n",
    "sur_dummies = pd.get_dummies(sur, columns= ['MainBranch', 'Employment', 'RemoteWork', 'EdLevel', 'OrgSize', 'PurchaseInfluence',\n",
    "                'Continent', 'SOVisitFreq', 'SOAccount', 'Gender', 'Age'], drop_first=True)"
   ]
  },
  {
   "cell_type": "markdown",
   "id": "1c3e4284",
   "metadata": {},
   "source": [
    "### DevType dummies"
   ]
  },
  {
   "cell_type": "code",
   "execution_count": 35,
   "id": "8df1afef",
   "metadata": {},
   "outputs": [],
   "source": [
    "#splitting values on semicolon\n",
    "DevType_df = pd.DataFrame(sur.DevType.str.split(';') \\\n",
    "                          .explode()) \\\n",
    "                          .replace(['Other (please specify):'], 'Other')"
   ]
  },
  {
   "cell_type": "code",
   "execution_count": 36,
   "id": "e96ceae3",
   "metadata": {},
   "outputs": [],
   "source": [
    "#setting up all unique values as columns and filling in with missing values\n",
    "def getValues(df, col):\n",
    "    \n",
    "    for val in df[col].value_counts().keys():\n",
    "        df[val] = np.nan\n",
    "    return df\n",
    "\n",
    "DevType_val = getValues(DevType_df, 'DevType')"
   ]
  },
  {
   "cell_type": "code",
   "execution_count": 37,
   "id": "3f0ca2b8",
   "metadata": {},
   "outputs": [],
   "source": [
    "#filling in missing values with 1 when the column name appears in original column, 0 if there's no value\n",
    "def fillNans(df, col2):\n",
    "    \n",
    "    for col in df:\n",
    "        if df[col].isna().sum()>0:\n",
    "            c = str(df[col].name)\n",
    "            df[col] = df[col].fillna(1).where(df[col2].isin([c]))\n",
    "            df[col] = df[col].fillna(0)\n",
    "    return df"
   ]
  },
  {
   "cell_type": "code",
   "execution_count": 38,
   "id": "02982941",
   "metadata": {},
   "outputs": [],
   "source": [
    "DevType_val = fillNans(DevType_val, 'DevType')"
   ]
  },
  {
   "cell_type": "code",
   "execution_count": 39,
   "id": "ed0d2e15",
   "metadata": {},
   "outputs": [],
   "source": [
    "#grouping by the index\n",
    "DevType_val = DevType_val.reset_index()\n",
    "\n",
    "DevType_val = DevType_val.groupby('index')[['Developer', 'Engineer', 'System administrator',\n",
    "       'DevOps specialist', 'Manager', 'Data scientist',\n",
    "       'Educator', 'Designer', 'Data or business analyst',\n",
    "       'Other', 'Security professional',\n",
    "       'Senior Executive (C-Suite, VP, etc.)']].sum().add_prefix('DevType_')"
   ]
  },
  {
   "cell_type": "markdown",
   "id": "9e0d38d5",
   "metadata": {},
   "source": [
    "### CodingActivities dummies"
   ]
  },
  {
   "cell_type": "code",
   "execution_count": 40,
   "id": "4622b63f",
   "metadata": {},
   "outputs": [],
   "source": [
    "CodingActivities_df = pd.DataFrame(sur.CodingActivities.str.split(';') \\\n",
    "                                   .explode()) \\\n",
    "                                   .replace(['Other (please specify):'], 'Other')\n",
    "\n",
    "CodingActivities_val = getValues(CodingActivities_df, 'CodingActivities')"
   ]
  },
  {
   "cell_type": "code",
   "execution_count": 41,
   "id": "4d48713f",
   "metadata": {},
   "outputs": [],
   "source": [
    "CodingActivities_val = fillNans(CodingActivities_val, 'CodingActivities')"
   ]
  },
  {
   "cell_type": "code",
   "execution_count": 42,
   "id": "bce4ba4e",
   "metadata": {},
   "outputs": [],
   "source": [
    "CodingActivities_val = CodingActivities_val.reset_index()"
   ]
  },
  {
   "cell_type": "code",
   "execution_count": 43,
   "id": "887ae2e3",
   "metadata": {},
   "outputs": [],
   "source": [
    "CodingActivities_val = CodingActivities_val.groupby('index')[['Hobby',\n",
    "       'Contribute to open-source projects', 'Freelance/contract work',\n",
    "       'Bootstrapping a business', 'I don’t code outside of work',\n",
    "       'School or academic work', 'Other']].sum().add_prefix('CodingActivities_')"
   ]
  },
  {
   "cell_type": "markdown",
   "id": "5101b620",
   "metadata": {},
   "source": [
    "### LearnCode dummies"
   ]
  },
  {
   "cell_type": "code",
   "execution_count": 44,
   "id": "e67b3a5d",
   "metadata": {},
   "outputs": [],
   "source": [
    "LearnCode_df = pd.DataFrame(sur.LearnCode.str.split(';') \\\n",
    "                            .explode()) \\\n",
    "                            .replace(['Other (please specify):'], 'Other')\n",
    "\n",
    "LearnCode_val = getValues(LearnCode_df, 'LearnCode')"
   ]
  },
  {
   "cell_type": "code",
   "execution_count": 45,
   "id": "4027947e",
   "metadata": {},
   "outputs": [],
   "source": [
    "LearnCode_val = fillNans(LearnCode_val, 'LearnCode')"
   ]
  },
  {
   "cell_type": "code",
   "execution_count": 46,
   "id": "6cf765c3",
   "metadata": {},
   "outputs": [],
   "source": [
    "LearnCode_val = LearnCode_val.reset_index()"
   ]
  },
  {
   "cell_type": "code",
   "execution_count": 47,
   "id": "05c2a910",
   "metadata": {},
   "outputs": [],
   "source": [
    "LearnCode_val = LearnCode_val.groupby('index')[['Other online resources (e.g., videos, blogs, forum)',\n",
    "       'School (i.e., University, College, etc)', 'Books / Physical media',\n",
    "       'On the job training', 'Online Courses or Certification', 'Colleague',\n",
    "       'Friend or family member', 'Coding Bootcamp',\n",
    "       'Hackathons (virtual or in-person)', 'Other']].sum().add_prefix('LearnCode_')"
   ]
  },
  {
   "cell_type": "markdown",
   "id": "2a781f67",
   "metadata": {},
   "source": [
    "### LanguageHaveWorkedWith dummies"
   ]
  },
  {
   "cell_type": "code",
   "execution_count": 48,
   "id": "1610d9dc",
   "metadata": {},
   "outputs": [],
   "source": [
    "LanguageHaveWorkedWith_df = pd.DataFrame(sur.LanguageHaveWorkedWith.str.split(';').explode())         \n",
    "\n",
    "LanguageHaveWorkedWith_val = getValues(LanguageHaveWorkedWith_df, 'LanguageHaveWorkedWith')"
   ]
  },
  {
   "cell_type": "code",
   "execution_count": 49,
   "id": "41374457",
   "metadata": {},
   "outputs": [],
   "source": [
    "LanguageHaveWorkedWith_val = fillNans(LanguageHaveWorkedWith_val, 'LanguageHaveWorkedWith')"
   ]
  },
  {
   "cell_type": "code",
   "execution_count": 50,
   "id": "705543d9",
   "metadata": {},
   "outputs": [],
   "source": [
    "LanguageHaveWorkedWith_val = LanguageHaveWorkedWith_val.reset_index()"
   ]
  },
  {
   "cell_type": "code",
   "execution_count": 51,
   "id": "b0fe2342",
   "metadata": {},
   "outputs": [],
   "source": [
    "LanguageHaveWorkedWith_val = LanguageHaveWorkedWith_val.groupby('index')[['JavaScript', 'HTML/CSS', 'SQL',\n",
    "       'Python', 'TypeScript', 'Bash/Shell', 'Java', 'C#', 'PHP', 'C++',\n",
    "       'PowerShell', 'C', 'Go']].sum().add_prefix('LangHaveWorked_')"
   ]
  },
  {
   "cell_type": "markdown",
   "id": "e4b96e5b",
   "metadata": {},
   "source": [
    "### NEWCollabToolsHaveWorkedWith dummies"
   ]
  },
  {
   "cell_type": "code",
   "execution_count": 52,
   "id": "9f9a1800",
   "metadata": {},
   "outputs": [],
   "source": [
    "NEWCollabToolsHaveWorkedWith_df = pd.DataFrame(sur.NEWCollabToolsHaveWorkedWith.str.split(';').explode())\n",
    "\n",
    "\n",
    "NEWCollabToolsHaveWorkedWith_val = getValues(NEWCollabToolsHaveWorkedWith_df, 'NEWCollabToolsHaveWorkedWith')"
   ]
  },
  {
   "cell_type": "code",
   "execution_count": 53,
   "id": "4cf6b3f3",
   "metadata": {},
   "outputs": [],
   "source": [
    "NEWCollabToolsHaveWorkedWith_val = fillNans(NEWCollabToolsHaveWorkedWith_val, 'NEWCollabToolsHaveWorkedWith')"
   ]
  },
  {
   "cell_type": "code",
   "execution_count": 54,
   "id": "59874098",
   "metadata": {},
   "outputs": [],
   "source": [
    "NEWCollabToolsHaveWorkedWith_val = NEWCollabToolsHaveWorkedWith_val.reset_index()"
   ]
  },
  {
   "cell_type": "code",
   "execution_count": 55,
   "id": "b9f123d0",
   "metadata": {},
   "outputs": [],
   "source": [
    "NEWCollabToolsHaveWorkedWith_val = NEWCollabToolsHaveWorkedWith_val.groupby('index')[['Visual Studio Code',\n",
    "       'Visual Studio', 'IntelliJ', 'Notepad++', 'Vim', 'Android Studio',\n",
    "       'Sublime Text', 'PyCharm', 'Xcode', 'Eclipse', 'IPython/Jupyter']].sum().add_prefix('NEWCTHaveWorked_')"
   ]
  },
  {
   "cell_type": "markdown",
   "id": "e8223f5b",
   "metadata": {},
   "source": [
    "### OpSysPersonal use dummies"
   ]
  },
  {
   "cell_type": "code",
   "execution_count": 56,
   "id": "eacbc4da",
   "metadata": {},
   "outputs": [],
   "source": [
    "OpSysPersonal_df = pd.DataFrame(sur.OpSysPersonal_use.str.split(';') \\\n",
    "                                .explode())\n",
    "\n",
    "OpSysPersonal_val = getValues(OpSysPersonal_df, 'OpSysPersonal_use')"
   ]
  },
  {
   "cell_type": "code",
   "execution_count": 57,
   "id": "d3f1cf11",
   "metadata": {},
   "outputs": [],
   "source": [
    "OpSysPersonal_val = fillNans(OpSysPersonal_val, 'OpSysPersonal_use')"
   ]
  },
  {
   "cell_type": "code",
   "execution_count": 58,
   "id": "6362ba90",
   "metadata": {},
   "outputs": [],
   "source": [
    "OpSysPersonal_val = OpSysPersonal_val.reset_index()"
   ]
  },
  {
   "cell_type": "code",
   "execution_count": 59,
   "id": "25391a78",
   "metadata": {},
   "outputs": [],
   "source": [
    "OpSysPersonal_val = OpSysPersonal_val.groupby('index')[['Windows', 'Linux-based', 'macOS',\n",
    "       'Windows Subsystem for Linux (WSL)']].sum().add_prefix('OpSys_')"
   ]
  },
  {
   "cell_type": "markdown",
   "id": "debd937e",
   "metadata": {},
   "source": [
    "### VersionControlSystem dummies"
   ]
  },
  {
   "cell_type": "code",
   "execution_count": 60,
   "id": "396735f5",
   "metadata": {},
   "outputs": [],
   "source": [
    "VersionControl_df = pd.DataFrame(sur.VersionControlSystem.str.split(';') \\\n",
    "                                       .explode()) \\\n",
    "                                       .replace(['Other (please specify):'], 'Other')\n",
    "\n",
    "VersionControl_val = getValues(VersionControl_df, 'VersionControlSystem')"
   ]
  },
  {
   "cell_type": "code",
   "execution_count": 61,
   "id": "aa28214f",
   "metadata": {},
   "outputs": [],
   "source": [
    "VersionControl_val = fillNans(VersionControl_val, 'VersionControlSystem')"
   ]
  },
  {
   "cell_type": "code",
   "execution_count": 62,
   "id": "4d7f3cec",
   "metadata": {},
   "outputs": [],
   "source": [
    "VersionControl_val = VersionControl_val.reset_index()"
   ]
  },
  {
   "cell_type": "code",
   "execution_count": 63,
   "id": "c86087bc",
   "metadata": {},
   "outputs": [],
   "source": [
    "VersionControl_val = VersionControl_val.groupby('index')[['Git', 'SVN',\n",
    "       'Other']].sum().add_prefix('VersionControl_')"
   ]
  },
  {
   "cell_type": "markdown",
   "id": "47f41ff4",
   "metadata": {},
   "source": [
    "### NEWSOSites dummies"
   ]
  },
  {
   "cell_type": "code",
   "execution_count": 64,
   "id": "f63b8004",
   "metadata": {},
   "outputs": [],
   "source": [
    "NEWSOSites_df = pd.DataFrame(sur.NEWSOSites.str.split(';').explode()).replace(\n",
    "             ['Stack Overflow for Teams (private knowledge sharing & collaboration platform for companies)'], \n",
    "             ['Stack Overflow for Teams'])\n",
    "\n",
    "NEWSOSites_val = getValues(NEWSOSites_df, 'NEWSOSites')"
   ]
  },
  {
   "cell_type": "code",
   "execution_count": 65,
   "id": "245fb218",
   "metadata": {},
   "outputs": [],
   "source": [
    "NEWSOSites_val = fillNans(NEWSOSites_val, 'NEWSOSites')"
   ]
  },
  {
   "cell_type": "code",
   "execution_count": 66,
   "id": "19b67e50",
   "metadata": {},
   "outputs": [],
   "source": [
    "NEWSOSites_val = NEWSOSites_val.reset_index()"
   ]
  },
  {
   "cell_type": "code",
   "execution_count": 67,
   "id": "12d205fc",
   "metadata": {},
   "outputs": [],
   "source": [
    "NEWSOSites_val = NEWSOSites_val.groupby('index')[['Stack Overflow', 'Stack Exchange',\n",
    "       'Collectives on Stack Overflow',\n",
    "       'Stack Overflow for Teams']].sum().add_prefix('NEWSOSites_')"
   ]
  },
  {
   "cell_type": "code",
   "execution_count": 68,
   "id": "23729a17",
   "metadata": {},
   "outputs": [],
   "source": [
    "#joining all dummy columns together in a dataframe sur_dummies\n",
    "dfs_list = [DevType_val, CodingActivities_val, LearnCode_val, LanguageHaveWorkedWith_val, \n",
    "           NEWCollabToolsHaveWorkedWith_val, OpSysPersonal_val, VersionControl_val, NEWSOSites_val]\n",
    "\n",
    "sur_dummies = sur_dummies.join(dfs_list).drop(columns=['DevType', 'CodingActivities', 'LearnCode', 'LanguageHaveWorkedWith', \n",
    "           'NEWCollabToolsHaveWorkedWith', 'OpSysPersonal_use', 'VersionControlSystem', 'NEWSOSites'], axis=1)"
   ]
  },
  {
   "cell_type": "markdown",
   "id": "22aa2d04",
   "metadata": {},
   "source": [
    "# OLS Analysis"
   ]
  },
  {
   "cell_type": "markdown",
   "id": "8871ab9a",
   "metadata": {},
   "source": [
    "Finally, in this part we will apply the **OLS method** to the dataframe in order to find out which factors are **statistically significant** and affect the salary and which are not. First we will **normalize** data by using *preprocessing.MinMaxScaler()* method from **sklearn** library. Next we will define our **x and y variable**. Y variable is the column **CompYearly** (salary), x is the rest of the dataframe after dropping the y. After defining x and y, data is ready for applying OLS analysis. "
   ]
  },
  {
   "cell_type": "code",
   "execution_count": 69,
   "id": "1bfa6557",
   "metadata": {},
   "outputs": [],
   "source": [
    "# transform features by scaling each feature from 0 to 1\n",
    "# with the 0 becoming the min score and 1 becoming max score\n",
    "# everything will vary between those values\n",
    "# it doesn't change categorical variables because they are already set to 0 and 1\n",
    "\n",
    "sur_minmax = pd.DataFrame(preprocessing.MinMaxScaler().fit_transform(sur_dummies), columns=sur_dummies.columns)"
   ]
  },
  {
   "cell_type": "code",
   "execution_count": 70,
   "id": "a5322e7e",
   "metadata": {},
   "outputs": [],
   "source": [
    "# defining x and y variable\n",
    "y = sur_minmax.CompYearly\n",
    "x = sur_minmax.drop(columns=['CompYearly'], axis=1).assign(const=1)"
   ]
  },
  {
   "cell_type": "code",
   "execution_count": 71,
   "id": "5df8f3c4",
   "metadata": {},
   "outputs": [
    {
     "data": {
      "text/html": [
       "<table class=\"simpletable\">\n",
       "<caption>OLS Regression Results</caption>\n",
       "<tr>\n",
       "  <th>Dep. Variable:</th>       <td>CompYearly</td>    <th>  R-squared:         </th>  <td>   0.387</td> \n",
       "</tr>\n",
       "<tr>\n",
       "  <th>Model:</th>                   <td>OLS</td>       <th>  Adj. R-squared:    </th>  <td>   0.385</td> \n",
       "</tr>\n",
       "<tr>\n",
       "  <th>Method:</th>             <td>Least Squares</td>  <th>  F-statistic:       </th>  <td>   185.1</td> \n",
       "</tr>\n",
       "<tr>\n",
       "  <th>Date:</th>             <td>Thu, 20 Apr 2023</td> <th>  Prob (F-statistic):</th>   <td>  0.00</td>  \n",
       "</tr>\n",
       "<tr>\n",
       "  <th>Time:</th>                 <td>10:40:35</td>     <th>  Log-Likelihood:    </th>  <td>  24671.</td> \n",
       "</tr>\n",
       "<tr>\n",
       "  <th>No. Observations:</th>      <td> 30645</td>      <th>  AIC:               </th> <td>-4.913e+04</td>\n",
       "</tr>\n",
       "<tr>\n",
       "  <th>Df Residuals:</th>          <td> 30540</td>      <th>  BIC:               </th> <td>-4.826e+04</td>\n",
       "</tr>\n",
       "<tr>\n",
       "  <th>Df Model:</th>              <td>   104</td>      <th>                     </th>      <td> </td>    \n",
       "</tr>\n",
       "<tr>\n",
       "  <th>Covariance Type:</th>      <td>nonrobust</td>    <th>                     </th>      <td> </td>    \n",
       "</tr>\n",
       "</table>\n",
       "<table class=\"simpletable\">\n",
       "<tr>\n",
       "                                               <td></td>                                                 <th>coef</th>     <th>std err</th>      <th>t</th>      <th>P>|t|</th>  <th>[0.025</th>    <th>0.975]</th>  \n",
       "</tr>\n",
       "<tr>\n",
       "  <th>YearsCode</th>                                                                                  <td>    0.0237</td> <td>    0.009</td> <td>    2.679</td> <td> 0.007</td> <td>    0.006</td> <td>    0.041</td>\n",
       "</tr>\n",
       "<tr>\n",
       "  <th>YearsCodePro</th>                                                                               <td>    0.1363</td> <td>    0.011</td> <td>   12.612</td> <td> 0.000</td> <td>    0.115</td> <td>    0.157</td>\n",
       "</tr>\n",
       "<tr>\n",
       "  <th>LanguageNum</th>                                                                                <td>    0.1097</td> <td>    0.026</td> <td>    4.217</td> <td> 0.000</td> <td>    0.059</td> <td>    0.161</td>\n",
       "</tr>\n",
       "<tr>\n",
       "  <th>NEWCollabNum</th>                                                                               <td>   -0.0279</td> <td>    0.019</td> <td>   -1.470</td> <td> 0.142</td> <td>   -0.065</td> <td>    0.009</td>\n",
       "</tr>\n",
       "<tr>\n",
       "  <th>MainBranch_I am not primarily a developer, but I write code sometimes as part of my work</th>   <td>   -0.0127</td> <td>    0.003</td> <td>   -4.536</td> <td> 0.000</td> <td>   -0.018</td> <td>   -0.007</td>\n",
       "</tr>\n",
       "<tr>\n",
       "  <th>Employment_Employed, part-time</th>                                                             <td>   -0.0227</td> <td>    0.004</td> <td>   -5.171</td> <td> 0.000</td> <td>   -0.031</td> <td>   -0.014</td>\n",
       "</tr>\n",
       "<tr>\n",
       "  <th>Employment_Independent contractor, freelancer, or self-employed</th>                            <td>    0.0176</td> <td>    0.003</td> <td>    5.550</td> <td> 0.000</td> <td>    0.011</td> <td>    0.024</td>\n",
       "</tr>\n",
       "<tr>\n",
       "  <th>RemoteWork_Fully remote</th>                                                                    <td>    0.0124</td> <td>    0.002</td> <td>    5.712</td> <td> 0.000</td> <td>    0.008</td> <td>    0.017</td>\n",
       "</tr>\n",
       "<tr>\n",
       "  <th>RemoteWork_Hybrid (some remote, some in-person)</th>                                            <td>    0.0083</td> <td>    0.002</td> <td>    3.902</td> <td> 0.000</td> <td>    0.004</td> <td>    0.012</td>\n",
       "</tr>\n",
       "<tr>\n",
       "  <th>EdLevel_Bachelor’s degree (B.A., B.S., B.Eng., etc.)</th>                                       <td>    0.0087</td> <td>    0.003</td> <td>    2.539</td> <td> 0.011</td> <td>    0.002</td> <td>    0.015</td>\n",
       "</tr>\n",
       "<tr>\n",
       "  <th>EdLevel_Master’s degree (M.A., M.S., M.Eng., MBA, etc.)</th>                                    <td>    0.0134</td> <td>    0.004</td> <td>    3.722</td> <td> 0.000</td> <td>    0.006</td> <td>    0.020</td>\n",
       "</tr>\n",
       "<tr>\n",
       "  <th>EdLevel_Other doctoral degree (Ph.D., Ed.D., etc.)</th>                                         <td>    0.0272</td> <td>    0.005</td> <td>    5.380</td> <td> 0.000</td> <td>    0.017</td> <td>    0.037</td>\n",
       "</tr>\n",
       "<tr>\n",
       "  <th>EdLevel_Secondary school (e.g. American high school, German Realschule or Gymnasium, etc.)</th> <td>    0.0132</td> <td>    0.004</td> <td>    3.003</td> <td> 0.003</td> <td>    0.005</td> <td>    0.022</td>\n",
       "</tr>\n",
       "<tr>\n",
       "  <th>EdLevel_Some college/university study without earning a degree</th>                             <td>    0.0065</td> <td>    0.004</td> <td>    1.728</td> <td> 0.084</td> <td>   -0.001</td> <td>    0.014</td>\n",
       "</tr>\n",
       "<tr>\n",
       "  <th>OrgSize_10 to 19 employees</th>                                                                 <td>   -0.0306</td> <td>    0.003</td> <td>  -10.536</td> <td> 0.000</td> <td>   -0.036</td> <td>   -0.025</td>\n",
       "</tr>\n",
       "<tr>\n",
       "  <th>OrgSize_10,000 or more employees</th>                                                           <td>    0.0142</td> <td>    0.002</td> <td>    5.837</td> <td> 0.000</td> <td>    0.009</td> <td>    0.019</td>\n",
       "</tr>\n",
       "<tr>\n",
       "  <th>OrgSize_100 to 499 employees</th>                                                               <td>   -0.0152</td> <td>    0.002</td> <td>   -6.684</td> <td> 0.000</td> <td>   -0.020</td> <td>   -0.011</td>\n",
       "</tr>\n",
       "<tr>\n",
       "  <th>OrgSize_2 to 9 employees</th>                                                                   <td>   -0.0396</td> <td>    0.003</td> <td>  -13.122</td> <td> 0.000</td> <td>   -0.046</td> <td>   -0.034</td>\n",
       "</tr>\n",
       "<tr>\n",
       "  <th>OrgSize_20 to 99 employees</th>                                                                 <td>   -0.0239</td> <td>    0.002</td> <td>  -10.414</td> <td> 0.000</td> <td>   -0.028</td> <td>   -0.019</td>\n",
       "</tr>\n",
       "<tr>\n",
       "  <th>OrgSize_5,000 to 9,999 employees</th>                                                           <td>    0.0014</td> <td>    0.003</td> <td>    0.420</td> <td> 0.675</td> <td>   -0.005</td> <td>    0.008</td>\n",
       "</tr>\n",
       "<tr>\n",
       "  <th>OrgSize_500 to 999 employees</th>                                                               <td>   -0.0092</td> <td>    0.003</td> <td>   -3.194</td> <td> 0.001</td> <td>   -0.015</td> <td>   -0.004</td>\n",
       "</tr>\n",
       "<tr>\n",
       "  <th>OrgSize_I don’t know</th>                                                                       <td>-1.864e-16</td> <td> 4.47e-17</td> <td>   -4.174</td> <td> 0.000</td> <td>-2.74e-16</td> <td>-9.89e-17</td>\n",
       "</tr>\n",
       "<tr>\n",
       "  <th>OrgSize_Just me - I am a freelancer, sole proprietor, etc.</th>                                 <td>   -0.0246</td> <td>    0.005</td> <td>   -5.204</td> <td> 0.000</td> <td>   -0.034</td> <td>   -0.015</td>\n",
       "</tr>\n",
       "<tr>\n",
       "  <th>PurchaseInfluence_I have little or no influence</th>                                            <td>   -0.0218</td> <td>    0.002</td> <td>  -10.495</td> <td> 0.000</td> <td>   -0.026</td> <td>   -0.018</td>\n",
       "</tr>\n",
       "<tr>\n",
       "  <th>PurchaseInfluence_I have some influence</th>                                                    <td>   -0.0117</td> <td>    0.002</td> <td>   -6.368</td> <td> 0.000</td> <td>   -0.015</td> <td>   -0.008</td>\n",
       "</tr>\n",
       "<tr>\n",
       "  <th>Continent_Asia</th>                                                                             <td>    0.0108</td> <td>    0.004</td> <td>    2.479</td> <td> 0.013</td> <td>    0.002</td> <td>    0.019</td>\n",
       "</tr>\n",
       "<tr>\n",
       "  <th>Continent_Europe</th>                                                                           <td>    0.0442</td> <td>    0.004</td> <td>   10.479</td> <td> 0.000</td> <td>    0.036</td> <td>    0.052</td>\n",
       "</tr>\n",
       "<tr>\n",
       "  <th>Continent_North America</th>                                                                    <td>    0.1540</td> <td>    0.004</td> <td>   35.684</td> <td> 0.000</td> <td>    0.146</td> <td>    0.162</td>\n",
       "</tr>\n",
       "<tr>\n",
       "  <th>Continent_Oceania</th>                                                                          <td>    0.0758</td> <td>    0.006</td> <td>   13.719</td> <td> 0.000</td> <td>    0.065</td> <td>    0.087</td>\n",
       "</tr>\n",
       "<tr>\n",
       "  <th>Continent_South America</th>                                                                    <td>   -0.0047</td> <td>    0.005</td> <td>   -0.970</td> <td> 0.332</td> <td>   -0.014</td> <td>    0.005</td>\n",
       "</tr>\n",
       "<tr>\n",
       "  <th>SOVisitFreq_A few times per week</th>                                                           <td>   -0.0053</td> <td>    0.002</td> <td>   -2.601</td> <td> 0.009</td> <td>   -0.009</td> <td>   -0.001</td>\n",
       "</tr>\n",
       "<tr>\n",
       "  <th>SOVisitFreq_Daily or almost daily</th>                                                          <td>   -0.0072</td> <td>    0.002</td> <td>   -3.588</td> <td> 0.000</td> <td>   -0.011</td> <td>   -0.003</td>\n",
       "</tr>\n",
       "<tr>\n",
       "  <th>SOVisitFreq_Less than once per month or monthly</th>                                            <td>    0.0111</td> <td>    0.005</td> <td>    2.367</td> <td> 0.018</td> <td>    0.002</td> <td>    0.020</td>\n",
       "</tr>\n",
       "<tr>\n",
       "  <th>SOVisitFreq_Multiple times per day</th>                                                         <td>   -0.0097</td> <td>    0.002</td> <td>   -4.504</td> <td> 0.000</td> <td>   -0.014</td> <td>   -0.005</td>\n",
       "</tr>\n",
       "<tr>\n",
       "  <th>SOAccount_Not sure/can't remember</th>                                                          <td>   -0.0042</td> <td>    0.003</td> <td>   -1.261</td> <td> 0.207</td> <td>   -0.011</td> <td>    0.002</td>\n",
       "</tr>\n",
       "<tr>\n",
       "  <th>SOAccount_Yes</th>                                                                              <td>   -0.0024</td> <td>    0.002</td> <td>   -1.105</td> <td> 0.269</td> <td>   -0.007</td> <td>    0.002</td>\n",
       "</tr>\n",
       "<tr>\n",
       "  <th>Gender_Woman</th>                                                                               <td>   -0.0085</td> <td>    0.003</td> <td>   -2.872</td> <td> 0.004</td> <td>   -0.014</td> <td>   -0.003</td>\n",
       "</tr>\n",
       "<tr>\n",
       "  <th>Age_25-34 years old</th>                                                                        <td>    0.0174</td> <td>    0.002</td> <td>    8.330</td> <td> 0.000</td> <td>    0.013</td> <td>    0.021</td>\n",
       "</tr>\n",
       "<tr>\n",
       "  <th>Age_35-44 years old</th>                                                                        <td>    0.0246</td> <td>    0.003</td> <td>    8.862</td> <td> 0.000</td> <td>    0.019</td> <td>    0.030</td>\n",
       "</tr>\n",
       "<tr>\n",
       "  <th>Age_45-54 years old</th>                                                                        <td>    0.0111</td> <td>    0.004</td> <td>    2.687</td> <td> 0.007</td> <td>    0.003</td> <td>    0.019</td>\n",
       "</tr>\n",
       "<tr>\n",
       "  <th>Age_55-64 years old</th>                                                                        <td>   -0.0081</td> <td>    0.006</td> <td>   -1.350</td> <td> 0.177</td> <td>   -0.020</td> <td>    0.004</td>\n",
       "</tr>\n",
       "<tr>\n",
       "  <th>DevType_Developer</th>                                                                          <td>   -0.0082</td> <td>    0.003</td> <td>   -3.222</td> <td> 0.001</td> <td>   -0.013</td> <td>   -0.003</td>\n",
       "</tr>\n",
       "<tr>\n",
       "  <th>DevType_Engineer</th>                                                                           <td>    0.0122</td> <td>    0.002</td> <td>    6.450</td> <td> 0.000</td> <td>    0.008</td> <td>    0.016</td>\n",
       "</tr>\n",
       "<tr>\n",
       "  <th>DevType_System administrator</th>                                                               <td>   -0.0192</td> <td>    0.002</td> <td>   -8.839</td> <td> 0.000</td> <td>   -0.023</td> <td>   -0.015</td>\n",
       "</tr>\n",
       "<tr>\n",
       "  <th>DevType_DevOps specialist</th>                                                                  <td>   -0.0034</td> <td>    0.002</td> <td>   -1.613</td> <td> 0.107</td> <td>   -0.008</td> <td>    0.001</td>\n",
       "</tr>\n",
       "<tr>\n",
       "  <th>DevType_Manager</th>                                                                            <td>    0.0161</td> <td>    0.002</td> <td>    7.958</td> <td> 0.000</td> <td>    0.012</td> <td>    0.020</td>\n",
       "</tr>\n",
       "<tr>\n",
       "  <th>DevType_Data scientist</th>                                                                     <td> 5.597e-05</td> <td>    0.003</td> <td>    0.019</td> <td> 0.985</td> <td>   -0.006</td> <td>    0.006</td>\n",
       "</tr>\n",
       "<tr>\n",
       "  <th>DevType_Educator</th>                                                                           <td>   -0.0273</td> <td>    0.003</td> <td>   -8.968</td> <td> 0.000</td> <td>   -0.033</td> <td>   -0.021</td>\n",
       "</tr>\n",
       "<tr>\n",
       "  <th>DevType_Designer</th>                                                                           <td>   -0.0107</td> <td>    0.003</td> <td>   -3.615</td> <td> 0.000</td> <td>   -0.016</td> <td>   -0.005</td>\n",
       "</tr>\n",
       "<tr>\n",
       "  <th>DevType_Data or business analyst</th>                                                           <td>   -0.0152</td> <td>    0.003</td> <td>   -4.975</td> <td> 0.000</td> <td>   -0.021</td> <td>   -0.009</td>\n",
       "</tr>\n",
       "<tr>\n",
       "  <th>DevType_Other</th>                                                                              <td>    0.0044</td> <td>    0.004</td> <td>    1.245</td> <td> 0.213</td> <td>   -0.003</td> <td>    0.011</td>\n",
       "</tr>\n",
       "<tr>\n",
       "  <th>DevType_Security professional</th>                                                              <td>    0.0060</td> <td>    0.004</td> <td>    1.572</td> <td> 0.116</td> <td>   -0.001</td> <td>    0.014</td>\n",
       "</tr>\n",
       "<tr>\n",
       "  <th>DevType_Senior Executive (C-Suite, VP, etc.)</th>                                               <td>    0.0476</td> <td>    0.004</td> <td>   11.508</td> <td> 0.000</td> <td>    0.039</td> <td>    0.056</td>\n",
       "</tr>\n",
       "<tr>\n",
       "  <th>CodingActivities_Hobby</th>                                                                     <td>    0.0010</td> <td>    0.002</td> <td>    0.461</td> <td> 0.645</td> <td>   -0.003</td> <td>    0.005</td>\n",
       "</tr>\n",
       "<tr>\n",
       "  <th>CodingActivities_Contribute to open-source projects</th>                                        <td>    0.0065</td> <td>    0.002</td> <td>    4.170</td> <td> 0.000</td> <td>    0.003</td> <td>    0.010</td>\n",
       "</tr>\n",
       "<tr>\n",
       "  <th>CodingActivities_Freelance/contract work</th>                                                   <td>   -0.0032</td> <td>    0.002</td> <td>   -1.888</td> <td> 0.059</td> <td>   -0.007</td> <td>    0.000</td>\n",
       "</tr>\n",
       "<tr>\n",
       "  <th>CodingActivities_Bootstrapping a business</th>                                                  <td>    0.0089</td> <td>    0.002</td> <td>    4.716</td> <td> 0.000</td> <td>    0.005</td> <td>    0.013</td>\n",
       "</tr>\n",
       "<tr>\n",
       "  <th>CodingActivities_I don’t code outside of work</th>                                              <td>    0.0060</td> <td>    0.003</td> <td>    2.207</td> <td> 0.027</td> <td>    0.001</td> <td>    0.011</td>\n",
       "</tr>\n",
       "<tr>\n",
       "  <th>CodingActivities_School or academic work</th>                                                   <td>   -0.0118</td> <td>    0.002</td> <td>   -4.868</td> <td> 0.000</td> <td>   -0.017</td> <td>   -0.007</td>\n",
       "</tr>\n",
       "<tr>\n",
       "  <th>CodingActivities_Other</th>                                                                     <td>   -0.0036</td> <td>    0.003</td> <td>   -1.054</td> <td> 0.292</td> <td>   -0.010</td> <td>    0.003</td>\n",
       "</tr>\n",
       "<tr>\n",
       "  <th>LearnCode_Other online resources (e.g., videos, blogs, forum)</th>                              <td>   -0.0053</td> <td>    0.001</td> <td>   -3.683</td> <td> 0.000</td> <td>   -0.008</td> <td>   -0.002</td>\n",
       "</tr>\n",
       "<tr>\n",
       "  <th>LearnCode_School (i.e., University, College, etc)</th>                                          <td>    0.0006</td> <td>    0.001</td> <td>    0.407</td> <td> 0.684</td> <td>   -0.002</td> <td>    0.003</td>\n",
       "</tr>\n",
       "<tr>\n",
       "  <th>LearnCode_Books / Physical media</th>                                                           <td>    0.0025</td> <td>    0.001</td> <td>    1.760</td> <td> 0.078</td> <td>   -0.000</td> <td>    0.005</td>\n",
       "</tr>\n",
       "<tr>\n",
       "  <th>LearnCode_On the job training</th>                                                              <td>    0.0063</td> <td>    0.001</td> <td>    4.725</td> <td> 0.000</td> <td>    0.004</td> <td>    0.009</td>\n",
       "</tr>\n",
       "<tr>\n",
       "  <th>LearnCode_Online Courses or Certification</th>                                                  <td>   -0.0137</td> <td>    0.001</td> <td>   -9.903</td> <td> 0.000</td> <td>   -0.016</td> <td>   -0.011</td>\n",
       "</tr>\n",
       "<tr>\n",
       "  <th>LearnCode_Colleague</th>                                                                        <td>   -0.0036</td> <td>    0.002</td> <td>   -2.231</td> <td> 0.026</td> <td>   -0.007</td> <td>   -0.000</td>\n",
       "</tr>\n",
       "<tr>\n",
       "  <th>LearnCode_Friend or family member</th>                                                          <td>    0.0011</td> <td>    0.002</td> <td>    0.581</td> <td> 0.561</td> <td>   -0.003</td> <td>    0.005</td>\n",
       "</tr>\n",
       "<tr>\n",
       "  <th>LearnCode_Coding Bootcamp</th>                                                                  <td>   -0.0018</td> <td>    0.002</td> <td>   -0.794</td> <td> 0.427</td> <td>   -0.006</td> <td>    0.003</td>\n",
       "</tr>\n",
       "<tr>\n",
       "  <th>LearnCode_Hackathons (virtual or in-person)</th>                                                <td>    0.0039</td> <td>    0.002</td> <td>    1.573</td> <td> 0.116</td> <td>   -0.001</td> <td>    0.009</td>\n",
       "</tr>\n",
       "<tr>\n",
       "  <th>LearnCode_Other</th>                                                                            <td>    0.0054</td> <td>    0.003</td> <td>    1.722</td> <td> 0.085</td> <td>   -0.001</td> <td>    0.012</td>\n",
       "</tr>\n",
       "<tr>\n",
       "  <th>LangHaveWorked_JavaScript</th>                                                                  <td>   -0.0078</td> <td>    0.002</td> <td>   -4.265</td> <td> 0.000</td> <td>   -0.011</td> <td>   -0.004</td>\n",
       "</tr>\n",
       "<tr>\n",
       "  <th>LangHaveWorked_HTML/CSS</th>                                                                    <td>   -0.0068</td> <td>    0.002</td> <td>   -4.080</td> <td> 0.000</td> <td>   -0.010</td> <td>   -0.004</td>\n",
       "</tr>\n",
       "<tr>\n",
       "  <th>LangHaveWorked_SQL</th>                                                                         <td>   -0.0041</td> <td>    0.002</td> <td>   -2.646</td> <td> 0.008</td> <td>   -0.007</td> <td>   -0.001</td>\n",
       "</tr>\n",
       "<tr>\n",
       "  <th>LangHaveWorked_Python</th>                                                                      <td>    0.0023</td> <td>    0.002</td> <td>    1.349</td> <td> 0.177</td> <td>   -0.001</td> <td>    0.006</td>\n",
       "</tr>\n",
       "<tr>\n",
       "  <th>LangHaveWorked_TypeScript</th>                                                                  <td>    0.0069</td> <td>    0.002</td> <td>    4.325</td> <td> 0.000</td> <td>    0.004</td> <td>    0.010</td>\n",
       "</tr>\n",
       "<tr>\n",
       "  <th>LangHaveWorked_Bash/Shell</th>                                                                  <td>    0.0010</td> <td>    0.002</td> <td>    0.620</td> <td> 0.535</td> <td>   -0.002</td> <td>    0.004</td>\n",
       "</tr>\n",
       "<tr>\n",
       "  <th>LangHaveWorked_Java</th>                                                                        <td>   -0.0008</td> <td>    0.002</td> <td>   -0.422</td> <td> 0.673</td> <td>   -0.005</td> <td>    0.003</td>\n",
       "</tr>\n",
       "<tr>\n",
       "  <th>LangHaveWorked_C#</th>                                                                          <td>   -0.0064</td> <td>    0.002</td> <td>   -3.100</td> <td> 0.002</td> <td>   -0.010</td> <td>   -0.002</td>\n",
       "</tr>\n",
       "<tr>\n",
       "  <th>LangHaveWorked_PHP</th>                                                                         <td>   -0.0175</td> <td>    0.002</td> <td>   -9.463</td> <td> 0.000</td> <td>   -0.021</td> <td>   -0.014</td>\n",
       "</tr>\n",
       "<tr>\n",
       "  <th>LangHaveWorked_C++</th>                                                                         <td>    0.0053</td> <td>    0.002</td> <td>    2.449</td> <td> 0.014</td> <td>    0.001</td> <td>    0.010</td>\n",
       "</tr>\n",
       "<tr>\n",
       "  <th>LangHaveWorked_PowerShell</th>                                                                  <td>   -0.0032</td> <td>    0.002</td> <td>   -1.504</td> <td> 0.133</td> <td>   -0.007</td> <td>    0.001</td>\n",
       "</tr>\n",
       "<tr>\n",
       "  <th>LangHaveWorked_C</th>                                                                           <td>   -0.0106</td> <td>    0.002</td> <td>   -4.404</td> <td> 0.000</td> <td>   -0.015</td> <td>   -0.006</td>\n",
       "</tr>\n",
       "<tr>\n",
       "  <th>LangHaveWorked_Go</th>                                                                          <td>    0.0136</td> <td>    0.002</td> <td>    6.290</td> <td> 0.000</td> <td>    0.009</td> <td>    0.018</td>\n",
       "</tr>\n",
       "<tr>\n",
       "  <th>NEWCTHaveWorked_Visual Studio Code</th>                                                         <td>    0.0013</td> <td>    0.002</td> <td>    0.771</td> <td> 0.441</td> <td>   -0.002</td> <td>    0.005</td>\n",
       "</tr>\n",
       "<tr>\n",
       "  <th>NEWCTHaveWorked_Visual Studio</th>                                                              <td>-8.199e-05</td> <td>    0.002</td> <td>   -0.039</td> <td> 0.969</td> <td>   -0.004</td> <td>    0.004</td>\n",
       "</tr>\n",
       "<tr>\n",
       "  <th>NEWCTHaveWorked_IntelliJ</th>                                                                   <td>    0.0080</td> <td>    0.002</td> <td>    4.049</td> <td> 0.000</td> <td>    0.004</td> <td>    0.012</td>\n",
       "</tr>\n",
       "<tr>\n",
       "  <th>NEWCTHaveWorked_Notepad++</th>                                                                  <td>   -0.0042</td> <td>    0.002</td> <td>   -2.367</td> <td> 0.018</td> <td>   -0.008</td> <td>   -0.001</td>\n",
       "</tr>\n",
       "<tr>\n",
       "  <th>NEWCTHaveWorked_Vim</th>                                                                        <td>    0.0060</td> <td>    0.002</td> <td>    3.389</td> <td> 0.001</td> <td>    0.003</td> <td>    0.009</td>\n",
       "</tr>\n",
       "<tr>\n",
       "  <th>NEWCTHaveWorked_Android Studio</th>                                                             <td>   -0.0050</td> <td>    0.002</td> <td>   -2.433</td> <td> 0.015</td> <td>   -0.009</td> <td>   -0.001</td>\n",
       "</tr>\n",
       "<tr>\n",
       "  <th>NEWCTHaveWorked_Sublime Text</th>                                                               <td>    0.0007</td> <td>    0.002</td> <td>    0.342</td> <td> 0.732</td> <td>   -0.003</td> <td>    0.005</td>\n",
       "</tr>\n",
       "<tr>\n",
       "  <th>NEWCTHaveWorked_PyCharm</th>                                                                    <td>    0.0049</td> <td>    0.002</td> <td>    2.164</td> <td> 0.030</td> <td>    0.000</td> <td>    0.009</td>\n",
       "</tr>\n",
       "<tr>\n",
       "  <th>NEWCTHaveWorked_Xcode</th>                                                                      <td>   -0.0009</td> <td>    0.002</td> <td>   -0.362</td> <td> 0.717</td> <td>   -0.006</td> <td>    0.004</td>\n",
       "</tr>\n",
       "<tr>\n",
       "  <th>NEWCTHaveWorked_Eclipse</th>                                                                    <td>   -0.0069</td> <td>    0.002</td> <td>   -2.864</td> <td> 0.004</td> <td>   -0.012</td> <td>   -0.002</td>\n",
       "</tr>\n",
       "<tr>\n",
       "  <th>NEWCTHaveWorked_IPython/Jupyter</th>                                                            <td>    0.0083</td> <td>    0.003</td> <td>    3.258</td> <td> 0.001</td> <td>    0.003</td> <td>    0.013</td>\n",
       "</tr>\n",
       "<tr>\n",
       "  <th>OpSys_Windows</th>                                                                              <td>   -0.0049</td> <td>    0.002</td> <td>   -3.028</td> <td> 0.002</td> <td>   -0.008</td> <td>   -0.002</td>\n",
       "</tr>\n",
       "<tr>\n",
       "  <th>OpSys_Linux-based</th>                                                                          <td>   -0.0062</td> <td>    0.001</td> <td>   -4.223</td> <td> 0.000</td> <td>   -0.009</td> <td>   -0.003</td>\n",
       "</tr>\n",
       "<tr>\n",
       "  <th>OpSys_macOS</th>                                                                                <td>    0.0197</td> <td>    0.002</td> <td>   12.386</td> <td> 0.000</td> <td>    0.017</td> <td>    0.023</td>\n",
       "</tr>\n",
       "<tr>\n",
       "  <th>OpSys_Windows Subsystem for Linux (WSL)</th>                                                    <td>    0.0054</td> <td>    0.002</td> <td>    2.955</td> <td> 0.003</td> <td>    0.002</td> <td>    0.009</td>\n",
       "</tr>\n",
       "<tr>\n",
       "  <th>VersionControl_Git</th>                                                                         <td>    0.0024</td> <td>    0.005</td> <td>    0.513</td> <td> 0.608</td> <td>   -0.007</td> <td>    0.011</td>\n",
       "</tr>\n",
       "<tr>\n",
       "  <th>VersionControl_SVN</th>                                                                         <td>   -0.0100</td> <td>    0.003</td> <td>   -3.439</td> <td> 0.001</td> <td>   -0.016</td> <td>   -0.004</td>\n",
       "</tr>\n",
       "<tr>\n",
       "  <th>VersionControl_Other</th>                                                                       <td> -3.14e-05</td> <td>    0.004</td> <td>   -0.009</td> <td> 0.993</td> <td>   -0.007</td> <td>    0.007</td>\n",
       "</tr>\n",
       "<tr>\n",
       "  <th>NEWSOSites_Stack Overflow</th>                                                                  <td>    0.0164</td> <td>    0.008</td> <td>    2.164</td> <td> 0.030</td> <td>    0.002</td> <td>    0.031</td>\n",
       "</tr>\n",
       "<tr>\n",
       "  <th>NEWSOSites_Stack Exchange</th>                                                                  <td>    0.0026</td> <td>    0.001</td> <td>    1.730</td> <td> 0.084</td> <td>   -0.000</td> <td>    0.005</td>\n",
       "</tr>\n",
       "<tr>\n",
       "  <th>NEWSOSites_Collectives on Stack Overflow</th>                                                   <td>   -0.0074</td> <td>    0.002</td> <td>   -3.039</td> <td> 0.002</td> <td>   -0.012</td> <td>   -0.003</td>\n",
       "</tr>\n",
       "<tr>\n",
       "  <th>NEWSOSites_Stack Overflow for Teams</th>                                                        <td>    0.0235</td> <td>    0.003</td> <td>    9.206</td> <td> 0.000</td> <td>    0.018</td> <td>    0.028</td>\n",
       "</tr>\n",
       "<tr>\n",
       "  <th>const</th>                                                                                      <td>    0.0433</td> <td>    0.011</td> <td>    3.773</td> <td> 0.000</td> <td>    0.021</td> <td>    0.066</td>\n",
       "</tr>\n",
       "</table>\n",
       "<table class=\"simpletable\">\n",
       "<tr>\n",
       "  <th>Omnibus:</th>       <td>22333.320</td> <th>  Durbin-Watson:     </th>  <td>   2.009</td> \n",
       "</tr>\n",
       "<tr>\n",
       "  <th>Prob(Omnibus):</th>  <td> 0.000</td>   <th>  Jarque-Bera (JB):  </th> <td>472309.169</td>\n",
       "</tr>\n",
       "<tr>\n",
       "  <th>Skew:</th>           <td> 3.324</td>   <th>  Prob(JB):          </th>  <td>    0.00</td> \n",
       "</tr>\n",
       "<tr>\n",
       "  <th>Kurtosis:</th>       <td>21.047</td>   <th>  Cond. No.          </th>  <td>2.25e+15</td> \n",
       "</tr>\n",
       "</table><br/><br/>Notes:<br/>[1] Standard Errors assume that the covariance matrix of the errors is correctly specified.<br/>[2] The smallest eigenvalue is 8.23e-26. This might indicate that there are<br/>strong multicollinearity problems or that the design matrix is singular."
      ],
      "text/plain": [
       "<class 'statsmodels.iolib.summary.Summary'>\n",
       "\"\"\"\n",
       "                            OLS Regression Results                            \n",
       "==============================================================================\n",
       "Dep. Variable:             CompYearly   R-squared:                       0.387\n",
       "Model:                            OLS   Adj. R-squared:                  0.385\n",
       "Method:                 Least Squares   F-statistic:                     185.1\n",
       "Date:                Thu, 20 Apr 2023   Prob (F-statistic):               0.00\n",
       "Time:                        10:40:35   Log-Likelihood:                 24671.\n",
       "No. Observations:               30645   AIC:                        -4.913e+04\n",
       "Df Residuals:                   30540   BIC:                        -4.826e+04\n",
       "Df Model:                         104                                         \n",
       "Covariance Type:            nonrobust                                         \n",
       "==============================================================================================================================================================\n",
       "                                                                                                 coef    std err          t      P>|t|      [0.025      0.975]\n",
       "--------------------------------------------------------------------------------------------------------------------------------------------------------------\n",
       "YearsCode                                                                                      0.0237      0.009      2.679      0.007       0.006       0.041\n",
       "YearsCodePro                                                                                   0.1363      0.011     12.612      0.000       0.115       0.157\n",
       "LanguageNum                                                                                    0.1097      0.026      4.217      0.000       0.059       0.161\n",
       "NEWCollabNum                                                                                  -0.0279      0.019     -1.470      0.142      -0.065       0.009\n",
       "MainBranch_I am not primarily a developer, but I write code sometimes as part of my work      -0.0127      0.003     -4.536      0.000      -0.018      -0.007\n",
       "Employment_Employed, part-time                                                                -0.0227      0.004     -5.171      0.000      -0.031      -0.014\n",
       "Employment_Independent contractor, freelancer, or self-employed                                0.0176      0.003      5.550      0.000       0.011       0.024\n",
       "RemoteWork_Fully remote                                                                        0.0124      0.002      5.712      0.000       0.008       0.017\n",
       "RemoteWork_Hybrid (some remote, some in-person)                                                0.0083      0.002      3.902      0.000       0.004       0.012\n",
       "EdLevel_Bachelor’s degree (B.A., B.S., B.Eng., etc.)                                           0.0087      0.003      2.539      0.011       0.002       0.015\n",
       "EdLevel_Master’s degree (M.A., M.S., M.Eng., MBA, etc.)                                        0.0134      0.004      3.722      0.000       0.006       0.020\n",
       "EdLevel_Other doctoral degree (Ph.D., Ed.D., etc.)                                             0.0272      0.005      5.380      0.000       0.017       0.037\n",
       "EdLevel_Secondary school (e.g. American high school, German Realschule or Gymnasium, etc.)     0.0132      0.004      3.003      0.003       0.005       0.022\n",
       "EdLevel_Some college/university study without earning a degree                                 0.0065      0.004      1.728      0.084      -0.001       0.014\n",
       "OrgSize_10 to 19 employees                                                                    -0.0306      0.003    -10.536      0.000      -0.036      -0.025\n",
       "OrgSize_10,000 or more employees                                                               0.0142      0.002      5.837      0.000       0.009       0.019\n",
       "OrgSize_100 to 499 employees                                                                  -0.0152      0.002     -6.684      0.000      -0.020      -0.011\n",
       "OrgSize_2 to 9 employees                                                                      -0.0396      0.003    -13.122      0.000      -0.046      -0.034\n",
       "OrgSize_20 to 99 employees                                                                    -0.0239      0.002    -10.414      0.000      -0.028      -0.019\n",
       "OrgSize_5,000 to 9,999 employees                                                               0.0014      0.003      0.420      0.675      -0.005       0.008\n",
       "OrgSize_500 to 999 employees                                                                  -0.0092      0.003     -3.194      0.001      -0.015      -0.004\n",
       "OrgSize_I don’t know                                                                       -1.864e-16   4.47e-17     -4.174      0.000   -2.74e-16   -9.89e-17\n",
       "OrgSize_Just me - I am a freelancer, sole proprietor, etc.                                    -0.0246      0.005     -5.204      0.000      -0.034      -0.015\n",
       "PurchaseInfluence_I have little or no influence                                               -0.0218      0.002    -10.495      0.000      -0.026      -0.018\n",
       "PurchaseInfluence_I have some influence                                                       -0.0117      0.002     -6.368      0.000      -0.015      -0.008\n",
       "Continent_Asia                                                                                 0.0108      0.004      2.479      0.013       0.002       0.019\n",
       "Continent_Europe                                                                               0.0442      0.004     10.479      0.000       0.036       0.052\n",
       "Continent_North America                                                                        0.1540      0.004     35.684      0.000       0.146       0.162\n",
       "Continent_Oceania                                                                              0.0758      0.006     13.719      0.000       0.065       0.087\n",
       "Continent_South America                                                                       -0.0047      0.005     -0.970      0.332      -0.014       0.005\n",
       "SOVisitFreq_A few times per week                                                              -0.0053      0.002     -2.601      0.009      -0.009      -0.001\n",
       "SOVisitFreq_Daily or almost daily                                                             -0.0072      0.002     -3.588      0.000      -0.011      -0.003\n",
       "SOVisitFreq_Less than once per month or monthly                                                0.0111      0.005      2.367      0.018       0.002       0.020\n",
       "SOVisitFreq_Multiple times per day                                                            -0.0097      0.002     -4.504      0.000      -0.014      -0.005\n",
       "SOAccount_Not sure/can't remember                                                             -0.0042      0.003     -1.261      0.207      -0.011       0.002\n",
       "SOAccount_Yes                                                                                 -0.0024      0.002     -1.105      0.269      -0.007       0.002\n",
       "Gender_Woman                                                                                  -0.0085      0.003     -2.872      0.004      -0.014      -0.003\n",
       "Age_25-34 years old                                                                            0.0174      0.002      8.330      0.000       0.013       0.021\n",
       "Age_35-44 years old                                                                            0.0246      0.003      8.862      0.000       0.019       0.030\n",
       "Age_45-54 years old                                                                            0.0111      0.004      2.687      0.007       0.003       0.019\n",
       "Age_55-64 years old                                                                           -0.0081      0.006     -1.350      0.177      -0.020       0.004\n",
       "DevType_Developer                                                                             -0.0082      0.003     -3.222      0.001      -0.013      -0.003\n",
       "DevType_Engineer                                                                               0.0122      0.002      6.450      0.000       0.008       0.016\n",
       "DevType_System administrator                                                                  -0.0192      0.002     -8.839      0.000      -0.023      -0.015\n",
       "DevType_DevOps specialist                                                                     -0.0034      0.002     -1.613      0.107      -0.008       0.001\n",
       "DevType_Manager                                                                                0.0161      0.002      7.958      0.000       0.012       0.020\n",
       "DevType_Data scientist                                                                      5.597e-05      0.003      0.019      0.985      -0.006       0.006\n",
       "DevType_Educator                                                                              -0.0273      0.003     -8.968      0.000      -0.033      -0.021\n",
       "DevType_Designer                                                                              -0.0107      0.003     -3.615      0.000      -0.016      -0.005\n",
       "DevType_Data or business analyst                                                              -0.0152      0.003     -4.975      0.000      -0.021      -0.009\n",
       "DevType_Other                                                                                  0.0044      0.004      1.245      0.213      -0.003       0.011\n",
       "DevType_Security professional                                                                  0.0060      0.004      1.572      0.116      -0.001       0.014\n",
       "DevType_Senior Executive (C-Suite, VP, etc.)                                                   0.0476      0.004     11.508      0.000       0.039       0.056\n",
       "CodingActivities_Hobby                                                                         0.0010      0.002      0.461      0.645      -0.003       0.005\n",
       "CodingActivities_Contribute to open-source projects                                            0.0065      0.002      4.170      0.000       0.003       0.010\n",
       "CodingActivities_Freelance/contract work                                                      -0.0032      0.002     -1.888      0.059      -0.007       0.000\n",
       "CodingActivities_Bootstrapping a business                                                      0.0089      0.002      4.716      0.000       0.005       0.013\n",
       "CodingActivities_I don’t code outside of work                                                  0.0060      0.003      2.207      0.027       0.001       0.011\n",
       "CodingActivities_School or academic work                                                      -0.0118      0.002     -4.868      0.000      -0.017      -0.007\n",
       "CodingActivities_Other                                                                        -0.0036      0.003     -1.054      0.292      -0.010       0.003\n",
       "LearnCode_Other online resources (e.g., videos, blogs, forum)                                 -0.0053      0.001     -3.683      0.000      -0.008      -0.002\n",
       "LearnCode_School (i.e., University, College, etc)                                              0.0006      0.001      0.407      0.684      -0.002       0.003\n",
       "LearnCode_Books / Physical media                                                               0.0025      0.001      1.760      0.078      -0.000       0.005\n",
       "LearnCode_On the job training                                                                  0.0063      0.001      4.725      0.000       0.004       0.009\n",
       "LearnCode_Online Courses or Certification                                                     -0.0137      0.001     -9.903      0.000      -0.016      -0.011\n",
       "LearnCode_Colleague                                                                           -0.0036      0.002     -2.231      0.026      -0.007      -0.000\n",
       "LearnCode_Friend or family member                                                              0.0011      0.002      0.581      0.561      -0.003       0.005\n",
       "LearnCode_Coding Bootcamp                                                                     -0.0018      0.002     -0.794      0.427      -0.006       0.003\n",
       "LearnCode_Hackathons (virtual or in-person)                                                    0.0039      0.002      1.573      0.116      -0.001       0.009\n",
       "LearnCode_Other                                                                                0.0054      0.003      1.722      0.085      -0.001       0.012\n",
       "LangHaveWorked_JavaScript                                                                     -0.0078      0.002     -4.265      0.000      -0.011      -0.004\n",
       "LangHaveWorked_HTML/CSS                                                                       -0.0068      0.002     -4.080      0.000      -0.010      -0.004\n",
       "LangHaveWorked_SQL                                                                            -0.0041      0.002     -2.646      0.008      -0.007      -0.001\n",
       "LangHaveWorked_Python                                                                          0.0023      0.002      1.349      0.177      -0.001       0.006\n",
       "LangHaveWorked_TypeScript                                                                      0.0069      0.002      4.325      0.000       0.004       0.010\n",
       "LangHaveWorked_Bash/Shell                                                                      0.0010      0.002      0.620      0.535      -0.002       0.004\n",
       "LangHaveWorked_Java                                                                           -0.0008      0.002     -0.422      0.673      -0.005       0.003\n",
       "LangHaveWorked_C#                                                                             -0.0064      0.002     -3.100      0.002      -0.010      -0.002\n",
       "LangHaveWorked_PHP                                                                            -0.0175      0.002     -9.463      0.000      -0.021      -0.014\n",
       "LangHaveWorked_C++                                                                             0.0053      0.002      2.449      0.014       0.001       0.010\n",
       "LangHaveWorked_PowerShell                                                                     -0.0032      0.002     -1.504      0.133      -0.007       0.001\n",
       "LangHaveWorked_C                                                                              -0.0106      0.002     -4.404      0.000      -0.015      -0.006\n",
       "LangHaveWorked_Go                                                                              0.0136      0.002      6.290      0.000       0.009       0.018\n",
       "NEWCTHaveWorked_Visual Studio Code                                                             0.0013      0.002      0.771      0.441      -0.002       0.005\n",
       "NEWCTHaveWorked_Visual Studio                                                              -8.199e-05      0.002     -0.039      0.969      -0.004       0.004\n",
       "NEWCTHaveWorked_IntelliJ                                                                       0.0080      0.002      4.049      0.000       0.004       0.012\n",
       "NEWCTHaveWorked_Notepad++                                                                     -0.0042      0.002     -2.367      0.018      -0.008      -0.001\n",
       "NEWCTHaveWorked_Vim                                                                            0.0060      0.002      3.389      0.001       0.003       0.009\n",
       "NEWCTHaveWorked_Android Studio                                                                -0.0050      0.002     -2.433      0.015      -0.009      -0.001\n",
       "NEWCTHaveWorked_Sublime Text                                                                   0.0007      0.002      0.342      0.732      -0.003       0.005\n",
       "NEWCTHaveWorked_PyCharm                                                                        0.0049      0.002      2.164      0.030       0.000       0.009\n",
       "NEWCTHaveWorked_Xcode                                                                         -0.0009      0.002     -0.362      0.717      -0.006       0.004\n",
       "NEWCTHaveWorked_Eclipse                                                                       -0.0069      0.002     -2.864      0.004      -0.012      -0.002\n",
       "NEWCTHaveWorked_IPython/Jupyter                                                                0.0083      0.003      3.258      0.001       0.003       0.013\n",
       "OpSys_Windows                                                                                 -0.0049      0.002     -3.028      0.002      -0.008      -0.002\n",
       "OpSys_Linux-based                                                                             -0.0062      0.001     -4.223      0.000      -0.009      -0.003\n",
       "OpSys_macOS                                                                                    0.0197      0.002     12.386      0.000       0.017       0.023\n",
       "OpSys_Windows Subsystem for Linux (WSL)                                                        0.0054      0.002      2.955      0.003       0.002       0.009\n",
       "VersionControl_Git                                                                             0.0024      0.005      0.513      0.608      -0.007       0.011\n",
       "VersionControl_SVN                                                                            -0.0100      0.003     -3.439      0.001      -0.016      -0.004\n",
       "VersionControl_Other                                                                        -3.14e-05      0.004     -0.009      0.993      -0.007       0.007\n",
       "NEWSOSites_Stack Overflow                                                                      0.0164      0.008      2.164      0.030       0.002       0.031\n",
       "NEWSOSites_Stack Exchange                                                                      0.0026      0.001      1.730      0.084      -0.000       0.005\n",
       "NEWSOSites_Collectives on Stack Overflow                                                      -0.0074      0.002     -3.039      0.002      -0.012      -0.003\n",
       "NEWSOSites_Stack Overflow for Teams                                                            0.0235      0.003      9.206      0.000       0.018       0.028\n",
       "const                                                                                          0.0433      0.011      3.773      0.000       0.021       0.066\n",
       "==============================================================================\n",
       "Omnibus:                    22333.320   Durbin-Watson:                   2.009\n",
       "Prob(Omnibus):                  0.000   Jarque-Bera (JB):           472309.169\n",
       "Skew:                           3.324   Prob(JB):                         0.00\n",
       "Kurtosis:                      21.047   Cond. No.                     2.25e+15\n",
       "==============================================================================\n",
       "\n",
       "Notes:\n",
       "[1] Standard Errors assume that the covariance matrix of the errors is correctly specified.\n",
       "[2] The smallest eigenvalue is 8.23e-26. This might indicate that there are\n",
       "strong multicollinearity problems or that the design matrix is singular.\n",
       "\"\"\""
      ]
     },
     "execution_count": 71,
     "metadata": {},
     "output_type": "execute_result"
    }
   ],
   "source": [
    "# OLS method\n",
    "results = sm.OLS(y,x).fit()\n",
    "\n",
    "results.summary()"
   ]
  },
  {
   "cell_type": "code",
   "execution_count": 72,
   "id": "efc3498b",
   "metadata": {},
   "outputs": [],
   "source": [
    "#creating dataframe with sorted values; from the least statistically significant to the most statistically significant\n",
    "results_df = pd.DataFrame({'coef': results.params, 't': abs(results.tvalues), 'p-value': results.pvalues}) \\\n",
    "                        .sort_values(by=['t'])"
   ]
  },
  {
   "cell_type": "markdown",
   "id": "2edd6673",
   "metadata": {},
   "source": [
    "# Interpretation of Results"
   ]
  },
  {
   "cell_type": "markdown",
   "id": "6cb70865",
   "metadata": {},
   "source": [
    "OLS is a technique for estimating coefficients of **linear regression equations** which describe the **relationship** between one or more **independent quantitative variables** and a **dependent variable** *(simple or multiple linear regression)*. In this analysis, the dependent variable (y) is salary of people who do coding for living.\n",
    "\n",
    "In the OLS method, those factors that have a **p-value < 0.05 are statistically significant**. The closer **t-value is to 0**, the more likely it **isn't a statistically significant**. Negative t-value are interpreted the same way as positive t-value, so we will take an **absolute value of t-value** to interprete t-value.\n",
    "\n",
    "*The factors that have the most impact on salary:*\n",
    "- **Continent_North America** - living in North America\n",
    "- **Continent_Oceania** - living in Oceania\n",
    "- **OrgSize_2 to 9 employees** - number of people that are employed by the company is from 2 to 9\n",
    "- **YearsCodePro** - experience in professional coding\n",
    "- **OpSys_macOS** - primary operating system is macOS\n",
    "\n",
    "*The factors that have the least impact on salary:*\n",
    "- **VersionControl_Other** - user doesn't work in Git nor SVN, but in some other version control system\n",
    "- **DevType_Data scientist** - data scientist profession\n",
    "- **NEWCTHaveWorked_Visual Studio** - working in Visual Studio\n",
    "- **NEWCTHaveWorked_Sublime Text** - working in Sublime Text\n",
    "- **NEWCTHaveWorked_Xcode** - working in Xcode"
   ]
  },
  {
   "cell_type": "code",
   "execution_count": 73,
   "id": "a143636a",
   "metadata": {},
   "outputs": [],
   "source": [
    "#results_df.tail(5) - The components that have the most impact on salary\n",
    "#results_df.head(5) - The components that have the least impact on salary"
   ]
  }
 ],
 "metadata": {
  "kernelspec": {
   "display_name": "Python 3 (ipykernel)",
   "language": "python",
   "name": "python3"
  },
  "language_info": {
   "codemirror_mode": {
    "name": "ipython",
    "version": 3
   },
   "file_extension": ".py",
   "mimetype": "text/x-python",
   "name": "python",
   "nbconvert_exporter": "python",
   "pygments_lexer": "ipython3",
   "version": "3.9.12"
  }
 },
 "nbformat": 4,
 "nbformat_minor": 5
}
